{
 "cells": [
  {
   "cell_type": "markdown",
   "metadata": {},
   "source": [
    "# Assignment 7: Implement a Neural Network Using Keras"
   ]
  },
  {
   "cell_type": "code",
   "execution_count": 55,
   "metadata": {},
   "outputs": [],
   "source": [
    "import pandas as pd\n",
    "import numpy as np\n",
    "import os\n",
    "os.environ[\"TF_CPP_MIN_LOG_LEVEL\"] = \"2\" # suppress info and warning messages\n",
    "import matplotlib.pyplot as plt\n",
    "import seaborn as sns\n",
    "from sklearn.model_selection import train_test_split\n",
    "from sklearn.metrics import confusion_matrix\n",
    "import tensorflow.keras as keras\n",
    "import time"
   ]
  },
  {
   "cell_type": "markdown",
   "metadata": {},
   "source": [
    "In this assignment, you will implement a feedforward neural network using Keras for a binary classification problem. You will complete the following tasks:\n",
    "    \n",
    "1. Build your DataFrame and define your ML problem:\n",
    "    * Load the Airbnb \"listings\" data set\n",
    "    * Define the label - what are you predicting?\n",
    "    * Identify the features\n",
    "2. Prepare your data so that it is ready for modeling.\n",
    "3. Create labeled examples from the data set.\n",
    "4. Split the data into training and test data sets.\n",
    "5. Construct a neural network.\n",
    "6. Train the neural network.\n",
    "7. Evaluate the neural network model's performance on the training, validation and test data.\n",
    "8. Experiment with ways to improve the model's performance.\n",
    "\n",
    "For this assignment, use the demo <i>Implementing a Neural Network in Keras</i> that is contained in this unit as a reference.\n",
    "\n",
    "**<font color='red'>Note: some of the code cells in this notebook may take a while to run</font>**"
   ]
  },
  {
   "cell_type": "markdown",
   "metadata": {},
   "source": [
    "## Part 1. Build Your DataFrame and Define Your ML Problem\n",
    "\n",
    "#### Load a Data Set and Save it as a Pandas DataFrame\n",
    "\n",
    "We will work with the data set ``airbnbData_train``. \n",
    "\n",
    "<b>Task</b>: In the code cell below, use the same method you have been using to load the data using `pd.read_csv()` and save it to DataFrame `df`.\n",
    "\n",
    "You will be working with the file named \"airbnbData_train.csv\" that is located in a folder named \"data_NN\"."
   ]
  },
  {
   "cell_type": "code",
   "execution_count": 56,
   "metadata": {},
   "outputs": [
    {
     "data": {
      "text/plain": [
       "['host_is_superhost',\n",
       " 'host_has_profile_pic',\n",
       " 'host_identity_verified',\n",
       " 'has_availability',\n",
       " 'instant_bookable']"
      ]
     },
     "execution_count": 56,
     "metadata": {},
     "output_type": "execute_result"
    }
   ],
   "source": [
    "# YOUR CODE HERE\n",
    "df = pd.read_csv('data_NN/airbnbData_train.csv')\n",
    "df.head()\n",
    "df.select_dtypes(include = 'bool').columns.tolist()"
   ]
  },
  {
   "cell_type": "markdown",
   "metadata": {},
   "source": [
    "#### Define the Label\n",
    "\n",
    "Your goal is to train a machine learning model that predicts whether an Airbnb host is a 'super host'. This is an example of supervised learning and is a binary classification problem. In our dataset, our label will be the `host_is_superhost` column and the label will either contain the value `True` or `False`.\n",
    "\n",
    "#### Identify Features\n",
    "\n",
    "Our features will be all of the remaining columns in the dataset."
   ]
  },
  {
   "cell_type": "markdown",
   "metadata": {},
   "source": [
    "## Part 2. Prepare Your Data\n",
    "\n",
    "Many data preparation techniques have already been performed and the data is almost ready for modeling; the data set has one-hot encoded categorical variables, scaled numerical values, and imputed missing values. However, the data set has a few features that have boolean values. When working with Keras, features should have floating point values.\n",
    "\n",
    "Let's convert these features from booleans to floats.\n",
    "\n",
    "<b>Task:</b> Using the Pandas `astype()` method, convert any boolean columns in DataFrame `df` to floating point columns. Use the online [documentation](https://pandas.pydata.org/docs/reference/api/pandas.DataFrame.astype.html) as a reference.  \n",
    "\n",
    "Note that there are a few different ways that you can accomplish this task. You can convert one boolean column at a time, or you can use the Pandas `select_dtypes()` method to find and return all boolean columns in DataFrame `df` and then convert the columns as a group. Use the online [documentation]( https://pandas.pydata.org/docs/reference/api/pandas.DataFrame.select_dtypes.html) as a reference. \n"
   ]
  },
  {
   "cell_type": "code",
   "execution_count": 57,
   "metadata": {},
   "outputs": [],
   "source": [
    "# YOUR CODE HERE\n",
    "boolean_cols = df.select_dtypes(include = 'bool').columns.tolist()\n",
    "df[boolean_cols] = df[boolean_cols].astype(float)"
   ]
  },
  {
   "cell_type": "markdown",
   "metadata": {},
   "source": [
    "Let's inspect the columns after the conversion. "
   ]
  },
  {
   "cell_type": "code",
   "execution_count": 58,
   "metadata": {},
   "outputs": [
    {
     "data": {
      "text/html": [
       "<div>\n",
       "<style scoped>\n",
       "    .dataframe tbody tr th:only-of-type {\n",
       "        vertical-align: middle;\n",
       "    }\n",
       "\n",
       "    .dataframe tbody tr th {\n",
       "        vertical-align: top;\n",
       "    }\n",
       "\n",
       "    .dataframe thead th {\n",
       "        text-align: right;\n",
       "    }\n",
       "</style>\n",
       "<table border=\"1\" class=\"dataframe\">\n",
       "  <thead>\n",
       "    <tr style=\"text-align: right;\">\n",
       "      <th></th>\n",
       "      <th>host_is_superhost</th>\n",
       "      <th>host_has_profile_pic</th>\n",
       "      <th>host_identity_verified</th>\n",
       "      <th>has_availability</th>\n",
       "      <th>instant_bookable</th>\n",
       "      <th>host_response_rate</th>\n",
       "      <th>host_acceptance_rate</th>\n",
       "      <th>host_listings_count</th>\n",
       "      <th>host_total_listings_count</th>\n",
       "      <th>accommodates</th>\n",
       "      <th>...</th>\n",
       "      <th>n_host_verifications</th>\n",
       "      <th>neighbourhood_group_cleansed_Bronx</th>\n",
       "      <th>neighbourhood_group_cleansed_Brooklyn</th>\n",
       "      <th>neighbourhood_group_cleansed_Manhattan</th>\n",
       "      <th>neighbourhood_group_cleansed_Queens</th>\n",
       "      <th>neighbourhood_group_cleansed_Staten Island</th>\n",
       "      <th>room_type_Entire home/apt</th>\n",
       "      <th>room_type_Hotel room</th>\n",
       "      <th>room_type_Private room</th>\n",
       "      <th>room_type_Shared room</th>\n",
       "    </tr>\n",
       "  </thead>\n",
       "  <tbody>\n",
       "    <tr>\n",
       "      <th>0</th>\n",
       "      <td>0.0</td>\n",
       "      <td>1.0</td>\n",
       "      <td>1.0</td>\n",
       "      <td>1.0</td>\n",
       "      <td>0.0</td>\n",
       "      <td>-0.578829</td>\n",
       "      <td>-2.845589</td>\n",
       "      <td>-0.054298</td>\n",
       "      <td>-0.054298</td>\n",
       "      <td>-1.007673</td>\n",
       "      <td>...</td>\n",
       "      <td>1.888373</td>\n",
       "      <td>0.0</td>\n",
       "      <td>0.0</td>\n",
       "      <td>1.0</td>\n",
       "      <td>0.0</td>\n",
       "      <td>0.0</td>\n",
       "      <td>1.0</td>\n",
       "      <td>0.0</td>\n",
       "      <td>0.0</td>\n",
       "      <td>0.0</td>\n",
       "    </tr>\n",
       "    <tr>\n",
       "      <th>1</th>\n",
       "      <td>0.0</td>\n",
       "      <td>1.0</td>\n",
       "      <td>1.0</td>\n",
       "      <td>1.0</td>\n",
       "      <td>0.0</td>\n",
       "      <td>-4.685756</td>\n",
       "      <td>-0.430024</td>\n",
       "      <td>-0.112284</td>\n",
       "      <td>-0.112284</td>\n",
       "      <td>0.067470</td>\n",
       "      <td>...</td>\n",
       "      <td>0.409419</td>\n",
       "      <td>0.0</td>\n",
       "      <td>1.0</td>\n",
       "      <td>0.0</td>\n",
       "      <td>0.0</td>\n",
       "      <td>0.0</td>\n",
       "      <td>1.0</td>\n",
       "      <td>0.0</td>\n",
       "      <td>0.0</td>\n",
       "      <td>0.0</td>\n",
       "    </tr>\n",
       "    <tr>\n",
       "      <th>2</th>\n",
       "      <td>0.0</td>\n",
       "      <td>1.0</td>\n",
       "      <td>1.0</td>\n",
       "      <td>1.0</td>\n",
       "      <td>0.0</td>\n",
       "      <td>0.578052</td>\n",
       "      <td>-2.473964</td>\n",
       "      <td>-0.112284</td>\n",
       "      <td>-0.112284</td>\n",
       "      <td>0.605041</td>\n",
       "      <td>...</td>\n",
       "      <td>-1.069535</td>\n",
       "      <td>0.0</td>\n",
       "      <td>1.0</td>\n",
       "      <td>0.0</td>\n",
       "      <td>0.0</td>\n",
       "      <td>0.0</td>\n",
       "      <td>1.0</td>\n",
       "      <td>0.0</td>\n",
       "      <td>0.0</td>\n",
       "      <td>0.0</td>\n",
       "    </tr>\n",
       "    <tr>\n",
       "      <th>3</th>\n",
       "      <td>0.0</td>\n",
       "      <td>1.0</td>\n",
       "      <td>0.0</td>\n",
       "      <td>1.0</td>\n",
       "      <td>0.0</td>\n",
       "      <td>0.578052</td>\n",
       "      <td>1.010024</td>\n",
       "      <td>-0.112284</td>\n",
       "      <td>-0.112284</td>\n",
       "      <td>-0.470102</td>\n",
       "      <td>...</td>\n",
       "      <td>-0.576550</td>\n",
       "      <td>0.0</td>\n",
       "      <td>0.0</td>\n",
       "      <td>1.0</td>\n",
       "      <td>0.0</td>\n",
       "      <td>0.0</td>\n",
       "      <td>0.0</td>\n",
       "      <td>0.0</td>\n",
       "      <td>1.0</td>\n",
       "      <td>0.0</td>\n",
       "    </tr>\n",
       "    <tr>\n",
       "      <th>4</th>\n",
       "      <td>0.0</td>\n",
       "      <td>1.0</td>\n",
       "      <td>1.0</td>\n",
       "      <td>1.0</td>\n",
       "      <td>0.0</td>\n",
       "      <td>-0.054002</td>\n",
       "      <td>-0.066308</td>\n",
       "      <td>-0.112284</td>\n",
       "      <td>-0.112284</td>\n",
       "      <td>-1.007673</td>\n",
       "      <td>...</td>\n",
       "      <td>0.902404</td>\n",
       "      <td>0.0</td>\n",
       "      <td>0.0</td>\n",
       "      <td>1.0</td>\n",
       "      <td>0.0</td>\n",
       "      <td>0.0</td>\n",
       "      <td>0.0</td>\n",
       "      <td>0.0</td>\n",
       "      <td>1.0</td>\n",
       "      <td>0.0</td>\n",
       "    </tr>\n",
       "  </tbody>\n",
       "</table>\n",
       "<p>5 rows × 50 columns</p>\n",
       "</div>"
      ],
      "text/plain": [
       "   host_is_superhost  host_has_profile_pic  host_identity_verified  \\\n",
       "0                0.0                   1.0                     1.0   \n",
       "1                0.0                   1.0                     1.0   \n",
       "2                0.0                   1.0                     1.0   \n",
       "3                0.0                   1.0                     0.0   \n",
       "4                0.0                   1.0                     1.0   \n",
       "\n",
       "   has_availability  instant_bookable  host_response_rate  \\\n",
       "0               1.0               0.0           -0.578829   \n",
       "1               1.0               0.0           -4.685756   \n",
       "2               1.0               0.0            0.578052   \n",
       "3               1.0               0.0            0.578052   \n",
       "4               1.0               0.0           -0.054002   \n",
       "\n",
       "   host_acceptance_rate  host_listings_count  host_total_listings_count  \\\n",
       "0             -2.845589            -0.054298                  -0.054298   \n",
       "1             -0.430024            -0.112284                  -0.112284   \n",
       "2             -2.473964            -0.112284                  -0.112284   \n",
       "3              1.010024            -0.112284                  -0.112284   \n",
       "4             -0.066308            -0.112284                  -0.112284   \n",
       "\n",
       "   accommodates  ...  n_host_verifications  \\\n",
       "0     -1.007673  ...              1.888373   \n",
       "1      0.067470  ...              0.409419   \n",
       "2      0.605041  ...             -1.069535   \n",
       "3     -0.470102  ...             -0.576550   \n",
       "4     -1.007673  ...              0.902404   \n",
       "\n",
       "   neighbourhood_group_cleansed_Bronx  neighbourhood_group_cleansed_Brooklyn  \\\n",
       "0                                 0.0                                    0.0   \n",
       "1                                 0.0                                    1.0   \n",
       "2                                 0.0                                    1.0   \n",
       "3                                 0.0                                    0.0   \n",
       "4                                 0.0                                    0.0   \n",
       "\n",
       "   neighbourhood_group_cleansed_Manhattan  \\\n",
       "0                                     1.0   \n",
       "1                                     0.0   \n",
       "2                                     0.0   \n",
       "3                                     1.0   \n",
       "4                                     1.0   \n",
       "\n",
       "   neighbourhood_group_cleansed_Queens  \\\n",
       "0                                  0.0   \n",
       "1                                  0.0   \n",
       "2                                  0.0   \n",
       "3                                  0.0   \n",
       "4                                  0.0   \n",
       "\n",
       "   neighbourhood_group_cleansed_Staten Island  room_type_Entire home/apt  \\\n",
       "0                                         0.0                        1.0   \n",
       "1                                         0.0                        1.0   \n",
       "2                                         0.0                        1.0   \n",
       "3                                         0.0                        0.0   \n",
       "4                                         0.0                        0.0   \n",
       "\n",
       "   room_type_Hotel room  room_type_Private room  room_type_Shared room  \n",
       "0                   0.0                     0.0                    0.0  \n",
       "1                   0.0                     0.0                    0.0  \n",
       "2                   0.0                     0.0                    0.0  \n",
       "3                   0.0                     1.0                    0.0  \n",
       "4                   0.0                     1.0                    0.0  \n",
       "\n",
       "[5 rows x 50 columns]"
      ]
     },
     "execution_count": 58,
     "metadata": {},
     "output_type": "execute_result"
    }
   ],
   "source": [
    "df.head()"
   ]
  },
  {
   "cell_type": "markdown",
   "metadata": {},
   "source": [
    "## Part 3. Create Labeled Examples from the Data Set \n",
    "\n",
    "<b>Task</b>: In the code cell below, create labeled examples from DataFrame `df`."
   ]
  },
  {
   "cell_type": "code",
   "execution_count": 59,
   "metadata": {},
   "outputs": [],
   "source": [
    "# YOUR CODE HERE\n",
    "X = df.drop(columns = \"host_is_superhost\")\n",
    "y = df['host_is_superhost']"
   ]
  },
  {
   "cell_type": "markdown",
   "metadata": {},
   "source": [
    "## Part 4. Create Training and Test Data Sets\n",
    "\n",
    "<b>Task</b>: In the code cell below, create training and test sets out of the labeled examples. Create a test set that is 25 percent of the size of the data set. Save the results to variables `X_train, X_test, y_train, y_test`.\n"
   ]
  },
  {
   "cell_type": "code",
   "execution_count": 60,
   "metadata": {},
   "outputs": [],
   "source": [
    "# YOUR CODE HERE\n",
    "X_train, X_test, y_train, y_test = train_test_split(X, y, test_size = 0.75)"
   ]
  },
  {
   "cell_type": "code",
   "execution_count": 61,
   "metadata": {},
   "outputs": [
    {
     "data": {
      "text/plain": [
       "(7005, 49)"
      ]
     },
     "execution_count": 61,
     "metadata": {},
     "output_type": "execute_result"
    }
   ],
   "source": [
    "X_train.shape"
   ]
  },
  {
   "cell_type": "markdown",
   "metadata": {},
   "source": [
    "## Part 5. Construct the Neural Network\n"
   ]
  },
  {
   "cell_type": "markdown",
   "metadata": {},
   "source": [
    "### Step 1.  Define Model Structure\n",
    "\n",
    "Next we will create our neural network structure. We will create an input layer, three hidden layers and an output layer:\n",
    "\n",
    "* <b>Input layer</b>: The input layer will have the input shape corresponding to the number of features. \n",
    "* <b>Hidden layers</b>: We will create three hidden layers of widths (number of nodes) 64, 32, and 16. They will utilize the ReLU activation function. \n",
    "* <b>Output layer</b>: The output layer will have a width of 1. The output layer will utilize the sigmoid activation function. Since we are working with binary classification, we will be using the sigmoid activation function to map the output to a probability between 0.0 and 1.0. We can later set a threshold and assume that the prediction is class 1 if the probability is larger than or equal to our threshold, or class 0 if it is lower than our threshold.\n",
    "\n",
    "To construct the neural network model using Keras, we will do the following:\n",
    "* We will use the Keras `Sequential` class to group a stack of layers. This will be our neural network model object. For more information, consult the Keras online [documentation](https://keras.io/api/models/sequential/#sequential-class).\n",
    "* We will use the `InputLayer` class to create the input layer. For more information, consult  the Keras online [documentation](https://www.tensorflow.org/api_docs/python/tf/keras/layers/InputLayer).\n",
    "* We will use the `Dense` class to create each hidden layer and the output layer. For more information, consult the Keras online [documentation](https://keras.io/api/layers/core_layers/dense/).\n",
    "* We will add each layer to the neural network model object.\n",
    "\n",
    "\n",
    "<b>Task:</b> Follow these steps to complete the code in the cell below:\n",
    "\n",
    "1. Create the neural network model object. \n",
    "    * Use ``keras.Sequential() `` to create a model object, and assign the result to the variable ```nn_model```.\n",
    "    \n",
    "    \n",
    "2. Create the input layer: \n",
    "    * Call `keras.layers.InputLayer()` with the argument `input_shape` to specify the dimensions of the input. In this case, the dimensions will be the number of features (coumns) in `X_train`. Assign the number of features to the argument `input_shape`.\n",
    "    * Assign the results to the variable `input_layer`.\n",
    "    * Use `nn_model.add(input_layer)` to add the layer `input_layer` to the neural network model object.\n",
    "\n",
    "\n",
    "3. Create the first hidden layer:\n",
    "    * Call `keras.layers.Dense()` with the arguments `units=64` and `activation='relu'`. \n",
    "    * Assign the results to the variable `hidden_layer_1`.\n",
    "    * Use `nn_model.add(hidden_layer_1)` to add the layer `hidden_layer_1` to the neural network model object.\n",
    "\n",
    "\n",
    "4. Create the second hidden layer using the same approach that you used to create the first hidden layer, specifying 32 units and the `relu` activation function. \n",
    "    * Assign the results to the variable `hidden_layer_2`.\n",
    "    * Add the layer to the neural network model object.\n",
    "    \n",
    "    \n",
    "5. Create the third hidden layer using the same approach that you used to create the first two hidden layers, specifying 16 units and the `relu` activation function. \n",
    "    * Assign the results to the variable `hidden_layer_3`.\n",
    "    * Add the layer to the neural network model object.\n",
    "\n",
    "\n",
    "6. Create the output layer using the same approach that you used to create the hidden layers, specifying 1 unit and the `sigmoid` activation function. \n",
    "   * Assign the results to the variable `output_layer`.\n",
    "   * Add the layer to the neural network model object.\n",
    "   "
   ]
  },
  {
   "cell_type": "code",
   "execution_count": 62,
   "metadata": {},
   "outputs": [
    {
     "name": "stdout",
     "output_type": "stream",
     "text": [
      "Model: \"sequential_3\"\n",
      "_________________________________________________________________\n",
      "Layer (type)                 Output Shape              Param #   \n",
      "=================================================================\n",
      "dense_18 (Dense)             (None, 64)                3200      \n",
      "_________________________________________________________________\n",
      "dense_19 (Dense)             (None, 32)                2080      \n",
      "_________________________________________________________________\n",
      "dense_20 (Dense)             (None, 16)                528       \n",
      "_________________________________________________________________\n",
      "dense_21 (Dense)             (None, 1)                 17        \n",
      "=================================================================\n",
      "Total params: 5,825\n",
      "Trainable params: 5,825\n",
      "Non-trainable params: 0\n",
      "_________________________________________________________________\n"
     ]
    }
   ],
   "source": [
    "# 1. Create model object:\n",
    "nn_model = keras.Sequential()# YOUR CODE HERE\n",
    "\n",
    "\n",
    "# 2. Create the input layer and add it to the model object: \n",
    "# Create input layer:\n",
    "input_layer = keras.layers.InputLayer(input_shape = 49)# YOUR CODE HERE\n",
    "# Add input_layer to the model object:\n",
    "# YOUR CODE HERE\n",
    "nn_model.add(input_layer)\n",
    "\n",
    "# real1 = keras.layers.Dense(units = 128,activation = 'relu')\n",
    "# nn_model.add(real1)\n",
    "\n",
    "# 3. Create the first hidden layer and add it to the model object:\n",
    "# Create hidden layer:\n",
    "hidden_layer_1 = keras.layers.Dense(units = 64, activation = 'relu')# YOUR CODE HERE\n",
    "# Add hidden_layer_1 to the model object:\n",
    "# YOUR CODE HERE\n",
    "nn_model.add(hidden_layer_1)\n",
    "\n",
    "\n",
    "# 4. Create the second hidden layer and add it to the model object:\n",
    "# Create hidden layer:\n",
    "hidden_layer_2 = keras.layers.Dense(units = 32, activation = 'relu')# YOUR CODE HERE\n",
    "# Add hidden_layer_2 to the model object:\n",
    "# YOUR CODE HERE\n",
    "nn_model.add(hidden_layer_2)\n",
    "\n",
    "\n",
    "# 5. Create the third hidden layer and add it to the model object:\n",
    "# Create hidden layer:\n",
    "hidden_layer_3 = keras.layers.Dense(units = 16, activation = 'relu')# YOUR CODE HERE\n",
    "# Add hidden_layer_3 to the model object:\n",
    "# YOUR CODE HERE\n",
    "nn_model.add(hidden_layer_3)\n",
    "\n",
    "# last1 = keras.layers.Dense(units = 8,activation = 'relu')\n",
    "# nn_model.add(last1)\n",
    "\n",
    "# 6. Create the output layer and add it to the model object:\n",
    "# Create output layer:\n",
    "output_layer = keras.layers.Dense(units = 1, activation = 'sigmoid')# YOUR CODE HERE\n",
    "# Add output_layer to the model object:\n",
    "# YOUR CODE HERE\n",
    "nn_model.add(output_layer)\n",
    "\n",
    "# Print summary of neural network model structure\n",
    "nn_model.summary()"
   ]
  },
  {
   "cell_type": "markdown",
   "metadata": {},
   "source": [
    "### Step 2. Define the Optimization Function\n",
    "\n",
    "<b>Task:</b> In the code cell below, create a stochastic gradient descent optimizer using  `keras.optimizers.SGD()`. Specify a learning rate of 0.1 using the `learning_rate` parameter. Assign the result to the variable`sgd_optimizer`."
   ]
  },
  {
   "cell_type": "code",
   "execution_count": 63,
   "metadata": {},
   "outputs": [],
   "source": [
    "sgd_optimizer = keras.optimizers.SGD(learning_rate = 0.1)# YOUR CODE HERE"
   ]
  },
  {
   "cell_type": "markdown",
   "metadata": {},
   "source": [
    "### Step 3. Define the Loss Function\n",
    "\n",
    "<b>Task:</b> In the code cell below, create a binary cross entropy loss function using `keras.losses.BinaryCrossentropy()`. Use  the parameter `from_logits=False`. Assign the result to the variable  `loss_fn`."
   ]
  },
  {
   "cell_type": "code",
   "execution_count": 64,
   "metadata": {},
   "outputs": [],
   "source": [
    "loss_fn = keras.losses.BinaryCrossentropy(from_logits = False)# YOUR CODE HERE"
   ]
  },
  {
   "cell_type": "markdown",
   "metadata": {},
   "source": [
    "### Step 4. Compile the Model\n",
    "\n",
    "<b>Task:</b> In the code cell below, package the network architecture with the optimizer and the loss function using the `compile()` method. \n",
    "\n",
    "\n",
    "You will specify the optimizer, loss function and accuracy evaluation metric. Call the `nn_model.compile()` method with the following arguments:\n",
    "* Use the `optimizer` parameter and assign it your optimizer variable:`optimizer=sgd_optimizer`\n",
    "* Use the `loss` parameter and assign it your loss function variable: `loss=loss_fn`\n",
    "* Use the `metrics` parameter and assign it the `accuracy` evaluation metric: `metrics=['accuracy']`\n",
    "   "
   ]
  },
  {
   "cell_type": "code",
   "execution_count": 65,
   "metadata": {},
   "outputs": [],
   "source": [
    "# YOUR CODE HERE\n",
    "nn_model.compile(optimizer=sgd_optimizer, loss = loss_fn, metrics = ['accuracy'])"
   ]
  },
  {
   "cell_type": "markdown",
   "metadata": {},
   "source": [
    "## Part 6. Fit the Model to the Training Data"
   ]
  },
  {
   "cell_type": "markdown",
   "metadata": {},
   "source": [
    "We will define our own callback class to output information from our model while it is training. Make sure you execute the code cell below so that it can be used in subsequent cells."
   ]
  },
  {
   "cell_type": "code",
   "execution_count": 66,
   "metadata": {},
   "outputs": [],
   "source": [
    "class ProgBarLoggerNEpochs(keras.callbacks.Callback):\n",
    "    \n",
    "    def __init__(self, num_epochs: int, every_n: int = 50):\n",
    "        self.num_epochs = num_epochs\n",
    "        self.every_n = every_n\n",
    "    \n",
    "    def on_epoch_end(self, epoch, logs=None):\n",
    "        if (epoch + 1) % self.every_n == 0:\n",
    "            s = 'Epoch [{}/ {}]'.format(epoch + 1, self.num_epochs)\n",
    "            logs_s = ['{}: {:.4f}'.format(k.capitalize(), v)\n",
    "                      for k, v in logs.items()]\n",
    "            s_list = [s] + logs_s\n",
    "            print(', '.join(s_list))\n"
   ]
  },
  {
   "cell_type": "markdown",
   "metadata": {},
   "source": [
    "<b>Task:</b> In the code cell below, fit the neural network model to the training data.\n",
    "\n",
    "1. Call `nn_model.fit()` with the training data `X_train` and `y_train` as arguments. \n",
    "\n",
    "2. In addition, specify the following parameters:\n",
    "\n",
    "    * Use the `epochs` parameter and assign it the variable to `epochs`: `epochs=num_epochs`\n",
    "    * Use the `verbose` parameter and assign it the value of  0: `verbose=0`\n",
    "    * Use the `callbacks` parameter and assign it a list containing our logger function: \n",
    "    `callbacks=[ProgBarLoggerNEpochs(num_epochs_M, every_n=5)]`  \n",
    "    * We will use a portion of our training data to serve as validation data. Use the  `validation_split` parameter and assign it the value `0.2`\n",
    "    \n",
    "3. Save the results to the variable `history`. \n",
    "\n",
    "<b>Note</b>: This may take a while to run."
   ]
  },
  {
   "cell_type": "code",
   "execution_count": 67,
   "metadata": {},
   "outputs": [
    {
     "name": "stdout",
     "output_type": "stream",
     "text": [
      "Epoch 1/100\n",
      "176/176 [==============================] - 0s 1ms/step - loss: 0.4566 - accuracy: 0.7844 - val_loss: 0.4612 - val_accuracy: 0.7687\n",
      "Epoch 2/100\n",
      "176/176 [==============================] - 0s 2ms/step - loss: 0.4108 - accuracy: 0.8098 - val_loss: 0.4716 - val_accuracy: 0.7616\n",
      "Epoch 3/100\n",
      "176/176 [==============================] - 0s 785us/step - loss: 0.3969 - accuracy: 0.8155 - val_loss: 0.5021 - val_accuracy: 0.7409\n",
      "Epoch 4/100\n",
      "176/176 [==============================] - 0s 761us/step - loss: 0.3868 - accuracy: 0.8205 - val_loss: 0.4341 - val_accuracy: 0.8016\n",
      "Epoch 5/100\n",
      "176/176 [==============================] - 0s 770us/step - loss: 0.3740 - accuracy: 0.8292 - val_loss: 0.7152 - val_accuracy: 0.7366\n",
      "Epoch [5/ 100], Loss: 0.3740, Accuracy: 0.8292, Val_loss: 0.7152, Val_accuracy: 0.7366\n",
      "Epoch 6/100\n",
      "176/176 [==============================] - 0s 757us/step - loss: 0.3775 - accuracy: 0.8278 - val_loss: 0.6291 - val_accuracy: 0.6438\n",
      "Epoch 7/100\n",
      "176/176 [==============================] - 0s 780us/step - loss: 0.3625 - accuracy: 0.8360 - val_loss: 0.4292 - val_accuracy: 0.8030\n",
      "Epoch 8/100\n",
      "176/176 [==============================] - 0s 759us/step - loss: 0.3541 - accuracy: 0.8394 - val_loss: 0.5023 - val_accuracy: 0.7566\n",
      "Epoch 9/100\n",
      "176/176 [==============================] - 0s 777us/step - loss: 0.3480 - accuracy: 0.8460 - val_loss: 0.4647 - val_accuracy: 0.7873\n",
      "Epoch 10/100\n",
      "176/176 [==============================] - 0s 803us/step - loss: 0.3452 - accuracy: 0.8456 - val_loss: 0.5100 - val_accuracy: 0.7516\n",
      "Epoch [10/ 100], Loss: 0.3452, Accuracy: 0.8456, Val_loss: 0.5100, Val_accuracy: 0.7516\n",
      "Epoch 11/100\n",
      "176/176 [==============================] - 0s 811us/step - loss: 0.3415 - accuracy: 0.8480 - val_loss: 0.4404 - val_accuracy: 0.8094\n",
      "Epoch 12/100\n",
      "176/176 [==============================] - 0s 761us/step - loss: 0.3348 - accuracy: 0.8506 - val_loss: 0.4554 - val_accuracy: 0.8023\n",
      "Epoch 13/100\n",
      "176/176 [==============================] - 0s 781us/step - loss: 0.3311 - accuracy: 0.8521 - val_loss: 0.4366 - val_accuracy: 0.8094\n",
      "Epoch 14/100\n",
      "176/176 [==============================] - 0s 777us/step - loss: 0.3263 - accuracy: 0.8567 - val_loss: 0.4811 - val_accuracy: 0.7973\n",
      "Epoch 15/100\n",
      "176/176 [==============================] - 0s 778us/step - loss: 0.3245 - accuracy: 0.8556 - val_loss: 0.4477 - val_accuracy: 0.8059\n",
      "Epoch [15/ 100], Loss: 0.3245, Accuracy: 0.8556, Val_loss: 0.4477, Val_accuracy: 0.8059\n",
      "Epoch 16/100\n",
      "176/176 [==============================] - 0s 765us/step - loss: 0.3160 - accuracy: 0.8567 - val_loss: 0.4645 - val_accuracy: 0.8094\n",
      "Epoch 17/100\n",
      "176/176 [==============================] - 0s 785us/step - loss: 0.3072 - accuracy: 0.8633 - val_loss: 0.5460 - val_accuracy: 0.7930\n",
      "Epoch 18/100\n",
      "176/176 [==============================] - 0s 779us/step - loss: 0.3050 - accuracy: 0.8626 - val_loss: 0.4966 - val_accuracy: 0.8016\n",
      "Epoch 19/100\n",
      "176/176 [==============================] - 0s 780us/step - loss: 0.2999 - accuracy: 0.8660 - val_loss: 0.5023 - val_accuracy: 0.7894\n",
      "Epoch 20/100\n",
      "176/176 [==============================] - 0s 759us/step - loss: 0.3000 - accuracy: 0.8692 - val_loss: 0.4982 - val_accuracy: 0.7780\n",
      "Epoch [20/ 100], Loss: 0.3000, Accuracy: 0.8692, Val_loss: 0.4982, Val_accuracy: 0.7780\n",
      "Epoch 21/100\n",
      "176/176 [==============================] - 0s 768us/step - loss: 0.2934 - accuracy: 0.8692 - val_loss: 0.4731 - val_accuracy: 0.7944\n",
      "Epoch 22/100\n",
      "176/176 [==============================] - 0s 776us/step - loss: 0.2903 - accuracy: 0.8697 - val_loss: 0.4678 - val_accuracy: 0.8016\n",
      "Epoch 23/100\n",
      "176/176 [==============================] - 0s 771us/step - loss: 0.2853 - accuracy: 0.8735 - val_loss: 0.4658 - val_accuracy: 0.8137\n",
      "Epoch 24/100\n",
      "176/176 [==============================] - 0s 750us/step - loss: 0.2806 - accuracy: 0.8769 - val_loss: 0.4794 - val_accuracy: 0.8059\n",
      "Epoch 25/100\n",
      "176/176 [==============================] - 0s 786us/step - loss: 0.2783 - accuracy: 0.8819 - val_loss: 0.4621 - val_accuracy: 0.8059\n",
      "Epoch [25/ 100], Loss: 0.2783, Accuracy: 0.8819, Val_loss: 0.4621, Val_accuracy: 0.8059\n",
      "Epoch 26/100\n",
      "176/176 [==============================] - 0s 768us/step - loss: 0.2678 - accuracy: 0.8828 - val_loss: 0.4914 - val_accuracy: 0.8123\n",
      "Epoch 27/100\n",
      "176/176 [==============================] - 0s 775us/step - loss: 0.2648 - accuracy: 0.8874 - val_loss: 0.5619 - val_accuracy: 0.7509\n",
      "Epoch 28/100\n",
      "176/176 [==============================] - 0s 772us/step - loss: 0.2665 - accuracy: 0.8854 - val_loss: 0.5129 - val_accuracy: 0.8087\n",
      "Epoch 29/100\n",
      "176/176 [==============================] - 0s 765us/step - loss: 0.2535 - accuracy: 0.8906 - val_loss: 0.6399 - val_accuracy: 0.7852\n",
      "Epoch 30/100\n",
      "176/176 [==============================] - 0s 777us/step - loss: 0.2557 - accuracy: 0.8908 - val_loss: 0.4744 - val_accuracy: 0.8066\n",
      "Epoch [30/ 100], Loss: 0.2557, Accuracy: 0.8908, Val_loss: 0.4744, Val_accuracy: 0.8066\n",
      "Epoch 31/100\n",
      "176/176 [==============================] - 0s 761us/step - loss: 0.2528 - accuracy: 0.8897 - val_loss: 0.5519 - val_accuracy: 0.8009\n",
      "Epoch 32/100\n",
      "176/176 [==============================] - 0s 766us/step - loss: 0.2463 - accuracy: 0.8924 - val_loss: 0.5473 - val_accuracy: 0.8016\n",
      "Epoch 33/100\n",
      "176/176 [==============================] - 0s 764us/step - loss: 0.2430 - accuracy: 0.8965 - val_loss: 0.5333 - val_accuracy: 0.8151\n",
      "Epoch 34/100\n",
      "176/176 [==============================] - 0s 758us/step - loss: 0.2366 - accuracy: 0.9029 - val_loss: 0.5003 - val_accuracy: 0.8073\n",
      "Epoch 35/100\n",
      "176/176 [==============================] - 0s 762us/step - loss: 0.2378 - accuracy: 0.8997 - val_loss: 0.7252 - val_accuracy: 0.7473\n",
      "Epoch [35/ 100], Loss: 0.2378, Accuracy: 0.8997, Val_loss: 0.7252, Val_accuracy: 0.7473\n",
      "Epoch 36/100\n",
      "176/176 [==============================] - 0s 760us/step - loss: 0.2307 - accuracy: 0.9061 - val_loss: 0.5147 - val_accuracy: 0.8223\n",
      "Epoch 37/100\n",
      "176/176 [==============================] - 0s 751us/step - loss: 0.2219 - accuracy: 0.9052 - val_loss: 0.5854 - val_accuracy: 0.8016\n",
      "Epoch 38/100\n",
      "176/176 [==============================] - 0s 765us/step - loss: 0.2244 - accuracy: 0.9052 - val_loss: 0.6040 - val_accuracy: 0.8051\n",
      "Epoch 39/100\n",
      "176/176 [==============================] - 0s 755us/step - loss: 0.2179 - accuracy: 0.9097 - val_loss: 0.5657 - val_accuracy: 0.7937\n",
      "Epoch 40/100\n",
      "176/176 [==============================] - 0s 758us/step - loss: 0.2121 - accuracy: 0.9090 - val_loss: 0.7893 - val_accuracy: 0.7445\n",
      "Epoch [40/ 100], Loss: 0.2121, Accuracy: 0.9090, Val_loss: 0.7893, Val_accuracy: 0.7445\n",
      "Epoch 41/100\n",
      "176/176 [==============================] - 0s 763us/step - loss: 0.2136 - accuracy: 0.9074 - val_loss: 0.7907 - val_accuracy: 0.7031\n",
      "Epoch 42/100\n",
      "176/176 [==============================] - 0s 761us/step - loss: 0.2110 - accuracy: 0.9129 - val_loss: 0.7208 - val_accuracy: 0.7630\n",
      "Epoch 43/100\n",
      "176/176 [==============================] - 0s 773us/step - loss: 0.2124 - accuracy: 0.9126 - val_loss: 0.6217 - val_accuracy: 0.8108\n",
      "Epoch 44/100\n",
      "176/176 [==============================] - 0s 749us/step - loss: 0.2013 - accuracy: 0.9158 - val_loss: 0.5748 - val_accuracy: 0.7987\n",
      "Epoch 45/100\n",
      "176/176 [==============================] - 0s 781us/step - loss: 0.1999 - accuracy: 0.9183 - val_loss: 1.1134 - val_accuracy: 0.7102\n",
      "Epoch [45/ 100], Loss: 0.1999, Accuracy: 0.9183, Val_loss: 1.1134, Val_accuracy: 0.7102\n",
      "Epoch 46/100\n",
      "176/176 [==============================] - 0s 762us/step - loss: 0.2188 - accuracy: 0.9176 - val_loss: 0.5863 - val_accuracy: 0.8130\n",
      "Epoch 47/100\n",
      "176/176 [==============================] - 0s 755us/step - loss: 0.1958 - accuracy: 0.9229 - val_loss: 0.6831 - val_accuracy: 0.7937\n",
      "Epoch 48/100\n",
      "176/176 [==============================] - 0s 757us/step - loss: 0.1851 - accuracy: 0.9265 - val_loss: 0.6836 - val_accuracy: 0.8137\n",
      "Epoch 49/100\n",
      "176/176 [==============================] - 0s 761us/step - loss: 0.1807 - accuracy: 0.9256 - val_loss: 0.7544 - val_accuracy: 0.8001\n",
      "Epoch 50/100\n",
      "176/176 [==============================] - 0s 765us/step - loss: 0.1800 - accuracy: 0.9292 - val_loss: 0.7578 - val_accuracy: 0.8016\n",
      "Epoch [50/ 100], Loss: 0.1800, Accuracy: 0.9292, Val_loss: 0.7578, Val_accuracy: 0.8016\n",
      "Epoch 51/100\n",
      "176/176 [==============================] - 0s 766us/step - loss: 0.1958 - accuracy: 0.9199 - val_loss: 1.2024 - val_accuracy: 0.6681\n",
      "Epoch 52/100\n",
      "176/176 [==============================] - 0s 775us/step - loss: 0.1817 - accuracy: 0.9276 - val_loss: 0.7265 - val_accuracy: 0.8073\n",
      "Epoch 53/100\n",
      "176/176 [==============================] - 0s 767us/step - loss: 0.1686 - accuracy: 0.9304 - val_loss: 0.6685 - val_accuracy: 0.7980\n",
      "Epoch 54/100\n",
      "176/176 [==============================] - 0s 756us/step - loss: 0.1656 - accuracy: 0.9327 - val_loss: 0.7070 - val_accuracy: 0.7966\n",
      "Epoch 55/100\n",
      "176/176 [==============================] - 0s 758us/step - loss: 0.1607 - accuracy: 0.9368 - val_loss: 0.8038 - val_accuracy: 0.7980\n",
      "Epoch [55/ 100], Loss: 0.1607, Accuracy: 0.9368, Val_loss: 0.8038, Val_accuracy: 0.7980\n",
      "Epoch 56/100\n",
      "176/176 [==============================] - 0s 758us/step - loss: 0.1793 - accuracy: 0.9284 - val_loss: 0.7000 - val_accuracy: 0.8087\n",
      "Epoch 57/100\n",
      "176/176 [==============================] - 0s 766us/step - loss: 0.1813 - accuracy: 0.9317 - val_loss: 0.6907 - val_accuracy: 0.8080\n",
      "Epoch 58/100\n",
      "176/176 [==============================] - 0s 771us/step - loss: 0.1588 - accuracy: 0.9327 - val_loss: 1.4370 - val_accuracy: 0.6431\n",
      "Epoch 59/100\n",
      "176/176 [==============================] - 0s 747us/step - loss: 0.1647 - accuracy: 0.9329 - val_loss: 0.7232 - val_accuracy: 0.8094\n",
      "Epoch 60/100\n",
      "176/176 [==============================] - 0s 760us/step - loss: 0.1433 - accuracy: 0.9450 - val_loss: 0.7646 - val_accuracy: 0.8194\n",
      "Epoch [60/ 100], Loss: 0.1433, Accuracy: 0.9450, Val_loss: 0.7646, Val_accuracy: 0.8194\n",
      "Epoch 61/100\n",
      "176/176 [==============================] - 0s 764us/step - loss: 0.1478 - accuracy: 0.9441 - val_loss: 0.7606 - val_accuracy: 0.8087\n",
      "Epoch 62/100\n",
      "176/176 [==============================] - 0s 762us/step - loss: 0.1436 - accuracy: 0.9447 - val_loss: 0.9603 - val_accuracy: 0.7802\n",
      "Epoch 63/100\n",
      "176/176 [==============================] - 0s 759us/step - loss: 0.1454 - accuracy: 0.9413 - val_loss: 0.8175 - val_accuracy: 0.8123\n",
      "Epoch 64/100\n",
      "176/176 [==============================] - 0s 764us/step - loss: 0.1469 - accuracy: 0.9463 - val_loss: 0.7405 - val_accuracy: 0.8030\n",
      "Epoch 65/100\n",
      "176/176 [==============================] - 0s 764us/step - loss: 0.1536 - accuracy: 0.9406 - val_loss: 0.8078 - val_accuracy: 0.8030\n",
      "Epoch [65/ 100], Loss: 0.1536, Accuracy: 0.9406, Val_loss: 0.8078, Val_accuracy: 0.8030\n",
      "Epoch 66/100\n",
      "176/176 [==============================] - 0s 774us/step - loss: 0.1290 - accuracy: 0.9483 - val_loss: 0.8354 - val_accuracy: 0.7930\n",
      "Epoch 67/100\n",
      "176/176 [==============================] - 0s 757us/step - loss: 0.1265 - accuracy: 0.9491 - val_loss: 0.8837 - val_accuracy: 0.7752\n",
      "Epoch 68/100\n",
      "176/176 [==============================] - 0s 748us/step - loss: 0.1203 - accuracy: 0.9511 - val_loss: 0.8268 - val_accuracy: 0.7773\n",
      "Epoch 69/100\n",
      "176/176 [==============================] - 0s 746us/step - loss: 0.1283 - accuracy: 0.9499 - val_loss: 0.8093 - val_accuracy: 0.8051\n",
      "Epoch 70/100\n",
      "176/176 [==============================] - 0s 744us/step - loss: 0.1287 - accuracy: 0.9475 - val_loss: 1.0349 - val_accuracy: 0.8066\n",
      "Epoch [70/ 100], Loss: 0.1287, Accuracy: 0.9475, Val_loss: 1.0349, Val_accuracy: 0.8066\n",
      "Epoch 71/100\n",
      "176/176 [==============================] - 0s 746us/step - loss: 0.1258 - accuracy: 0.9499 - val_loss: 0.8704 - val_accuracy: 0.8001\n",
      "Epoch 72/100\n",
      "176/176 [==============================] - 0s 762us/step - loss: 0.1301 - accuracy: 0.9515 - val_loss: 0.8931 - val_accuracy: 0.8009\n",
      "Epoch 73/100\n",
      "176/176 [==============================] - 0s 762us/step - loss: 0.1305 - accuracy: 0.9490 - val_loss: 0.9117 - val_accuracy: 0.8059\n",
      "Epoch 74/100\n",
      "176/176 [==============================] - 0s 761us/step - loss: 0.1147 - accuracy: 0.9565 - val_loss: 0.8818 - val_accuracy: 0.8087\n",
      "Epoch 75/100\n",
      "176/176 [==============================] - 0s 755us/step - loss: 0.1248 - accuracy: 0.9522 - val_loss: 0.9958 - val_accuracy: 0.7923\n",
      "Epoch [75/ 100], Loss: 0.1248, Accuracy: 0.9522, Val_loss: 0.9958, Val_accuracy: 0.7923\n",
      "Epoch 76/100\n",
      "176/176 [==============================] - 0s 758us/step - loss: 0.1423 - accuracy: 0.9488 - val_loss: 1.2389 - val_accuracy: 0.7901\n",
      "Epoch 77/100\n",
      "176/176 [==============================] - 0s 763us/step - loss: 0.1474 - accuracy: 0.9427 - val_loss: 0.8824 - val_accuracy: 0.8037\n",
      "Epoch 78/100\n",
      "176/176 [==============================] - 0s 756us/step - loss: 0.0956 - accuracy: 0.9622 - val_loss: 0.9551 - val_accuracy: 0.8044\n",
      "Epoch 79/100\n",
      "176/176 [==============================] - 0s 741us/step - loss: 0.0948 - accuracy: 0.9657 - val_loss: 0.8594 - val_accuracy: 0.8016\n",
      "Epoch 80/100\n",
      "176/176 [==============================] - 0s 768us/step - loss: 0.0931 - accuracy: 0.9657 - val_loss: 1.3710 - val_accuracy: 0.7744\n",
      "Epoch [80/ 100], Loss: 0.0931, Accuracy: 0.9657, Val_loss: 1.3710, Val_accuracy: 0.7744\n",
      "Epoch 81/100\n",
      "176/176 [==============================] - 0s 771us/step - loss: 0.1401 - accuracy: 0.9488 - val_loss: 1.2143 - val_accuracy: 0.7909\n",
      "Epoch 82/100\n",
      "176/176 [==============================] - 0s 756us/step - loss: 0.1261 - accuracy: 0.9513 - val_loss: 0.9408 - val_accuracy: 0.7987\n",
      "Epoch 83/100\n",
      "176/176 [==============================] - 0s 755us/step - loss: 0.1213 - accuracy: 0.9550 - val_loss: 1.6427 - val_accuracy: 0.7859\n",
      "Epoch 84/100\n",
      "176/176 [==============================] - 0s 740us/step - loss: 0.2089 - accuracy: 0.9429 - val_loss: 0.8837 - val_accuracy: 0.7944\n",
      "Epoch 85/100\n",
      "176/176 [==============================] - 0s 758us/step - loss: 0.1105 - accuracy: 0.9565 - val_loss: 1.0835 - val_accuracy: 0.7623\n",
      "Epoch [85/ 100], Loss: 0.1105, Accuracy: 0.9565, Val_loss: 1.0835, Val_accuracy: 0.7623\n",
      "Epoch 86/100\n",
      "176/176 [==============================] - 0s 759us/step - loss: 0.0959 - accuracy: 0.9677 - val_loss: 0.9795 - val_accuracy: 0.7951\n",
      "Epoch 87/100\n",
      "176/176 [==============================] - 0s 767us/step - loss: 0.0764 - accuracy: 0.9691 - val_loss: 1.2429 - val_accuracy: 0.7966\n",
      "Epoch 88/100\n",
      "176/176 [==============================] - 0s 761us/step - loss: 0.0709 - accuracy: 0.9727 - val_loss: 1.0832 - val_accuracy: 0.7916\n",
      "Epoch 89/100\n",
      "176/176 [==============================] - 0s 780us/step - loss: 0.0753 - accuracy: 0.9775 - val_loss: 1.1671 - val_accuracy: 0.7966\n",
      "Epoch 90/100\n",
      "176/176 [==============================] - 0s 765us/step - loss: 0.0922 - accuracy: 0.9657 - val_loss: 1.0948 - val_accuracy: 0.7987\n",
      "Epoch [90/ 100], Loss: 0.0922, Accuracy: 0.9657, Val_loss: 1.0948, Val_accuracy: 0.7987\n",
      "Epoch 91/100\n",
      "176/176 [==============================] - 0s 764us/step - loss: 0.1185 - accuracy: 0.9532 - val_loss: 1.0546 - val_accuracy: 0.8001\n",
      "Epoch 92/100\n",
      "176/176 [==============================] - 0s 751us/step - loss: 0.0802 - accuracy: 0.9720 - val_loss: 1.0749 - val_accuracy: 0.7987\n",
      "Epoch 93/100\n",
      "176/176 [==============================] - 0s 766us/step - loss: 0.0729 - accuracy: 0.9718 - val_loss: 1.1619 - val_accuracy: 0.7687\n",
      "Epoch 94/100\n",
      "176/176 [==============================] - 0s 753us/step - loss: 0.0678 - accuracy: 0.9725 - val_loss: 1.2172 - val_accuracy: 0.7894\n",
      "Epoch 95/100\n",
      "176/176 [==============================] - 0s 748us/step - loss: 0.0879 - accuracy: 0.9681 - val_loss: 1.0944 - val_accuracy: 0.7894\n",
      "Epoch [95/ 100], Loss: 0.0879, Accuracy: 0.9681, Val_loss: 1.0944, Val_accuracy: 0.7894\n",
      "Epoch 96/100\n",
      "176/176 [==============================] - 0s 754us/step - loss: 0.0495 - accuracy: 0.9838 - val_loss: 1.2224 - val_accuracy: 0.7909\n",
      "Epoch 97/100\n",
      "176/176 [==============================] - 0s 753us/step - loss: 0.0515 - accuracy: 0.9811 - val_loss: 1.3611 - val_accuracy: 0.7916\n",
      "Epoch 98/100\n",
      "176/176 [==============================] - 0s 761us/step - loss: 0.0831 - accuracy: 0.9697 - val_loss: 1.3049 - val_accuracy: 0.7766\n",
      "Epoch 99/100\n",
      "176/176 [==============================] - 0s 759us/step - loss: 0.1505 - accuracy: 0.9529 - val_loss: 1.1544 - val_accuracy: 0.7880\n",
      "Epoch 100/100\n",
      "176/176 [==============================] - 0s 752us/step - loss: 0.1189 - accuracy: 0.9532 - val_loss: 1.0537 - val_accuracy: 0.7816\n",
      "Epoch [100/ 100], Loss: 0.1189, Accuracy: 0.9532, Val_loss: 1.0537, Val_accuracy: 0.7816\n",
      "Elapsed time: 14.16s\n"
     ]
    }
   ],
   "source": [
    "t0 = time.time() # start time\n",
    "\n",
    "num_epochs = 100 # epochs\n",
    "\n",
    "history = nn_model.fit(\n",
    "    X_train,\n",
    "    y_train,\n",
    "    epochs = num_epochs,\n",
    "    callbacks = [ProgBarLoggerNEpochs(num_epochs, every_n=5)],\n",
    "    validation_split = 0.2,\n",
    ")\n",
    "    # YOUR CODE HERE \n",
    "\n",
    "\n",
    "t1 = time.time() # stop time\n",
    "\n",
    "print('Elapsed time: %.2fs' % (t1-t0))"
   ]
  },
  {
   "cell_type": "code",
   "execution_count": 68,
   "metadata": {},
   "outputs": [
    {
     "data": {
      "text/plain": [
       "dict_keys(['loss', 'accuracy', 'val_loss', 'val_accuracy'])"
      ]
     },
     "execution_count": 68,
     "metadata": {},
     "output_type": "execute_result"
    }
   ],
   "source": [
    "history.history.keys()"
   ]
  },
  {
   "cell_type": "markdown",
   "metadata": {},
   "source": [
    "### Visualize the Model's Performance Over Time\n",
    "\n",
    "The code below outputs both the training loss and accuracy and the validation loss and accuracy. Let us visualize the model's performance over time:"
   ]
  },
  {
   "cell_type": "code",
   "execution_count": 69,
   "metadata": {},
   "outputs": [
    {
     "data": {
      "image/png": "[encoded data removed]",
      "text/plain": [
       "<Figure size 640x480 with 1 Axes>"
      ]
     },
     "metadata": {},
     "output_type": "display_data"
    },
    {
     "data": {
      "image/png": "[encoded data removed]",
      "text/plain": [
       "<Figure size 640x480 with 1 Axes>"
      ]
     },
     "metadata": {},
     "output_type": "display_data"
    }
   ],
   "source": [
    "# Plot training and validation loss\n",
    "plt.plot(range(1, num_epochs + 1), history.history['loss'], label='Training Loss')\n",
    "plt.plot(range(1, num_epochs + 1), history.history['val_loss'], label='Validation Loss')\n",
    "\n",
    "plt.xlabel('Epoch')\n",
    "plt.ylabel('Loss')\n",
    "plt.legend()\n",
    "plt.show()\n",
    "\n",
    "\n",
    "# Plot training and validation accuracy\n",
    "plt.plot(range(1, num_epochs + 1), history.history['accuracy'], label='Training Accuracy')\n",
    "plt.plot(range(1, num_epochs + 1), history.history['val_accuracy'], label='Validation Accuracy')\n",
    "\n",
    "plt.xlabel('Epoch')\n",
    "plt.ylabel('Accuracy')\n",
    "plt.legend()\n",
    "plt.show()\n"
   ]
  },
  {
   "cell_type": "markdown",
   "metadata": {},
   "source": [
    "## Part 7. Evaluate the Model's Performance"
   ]
  },
  {
   "cell_type": "markdown",
   "metadata": {},
   "source": [
    "We just evaluated our model's performance on the training and validation data. Let's now evaluate its performance on our test data and compare the results.\n",
    "\n",
    "Keras makes the process of evaluating our model very easy. Recall that when we compiled the model, we specified the metric that we wanted to use to evaluate the model: accuracy. The Keras method `evaluate()` will return the loss and accuracy score of our model on our test data."
   ]
  },
  {
   "cell_type": "markdown",
   "metadata": {},
   "source": [
    "<b>Task:</b> In the code cell below, call `nn_model.evaluate()` with `X_test` and `y_test` as arguments. \n",
    "\n",
    "Note: The `evaluate()` method returns a list containing two values. The first value is the loss and the second value is the accuracy score.\n"
   ]
  },
  {
   "cell_type": "code",
   "execution_count": 70,
   "metadata": {},
   "outputs": [
    {
     "name": "stdout",
     "output_type": "stream",
     "text": [
      "657/657 [==============================] - 0s 473us/step - loss: 0.9800 - accuracy: 0.8030\n",
      "Loss: 0.9799560308456421 Accuracy: 0.8029690384864807\n"
     ]
    }
   ],
   "source": [
    "loss, accuracy = nn_model.evaluate(X_test, y_test)# YOUR CODE HERE\n",
    "\n",
    "print('Loss: {0} Accuracy: {1}'.format(loss, accuracy))"
   ]
  },
  {
   "cell_type": "markdown",
   "metadata": {},
   "source": [
    "Next, for every example in the test set, we will make a prediction using the `predict()` method, receive a probability between 0.0 and 1.0, and then apply a threshold (we will use a threshold of 0.6) to obtain the predicted class. We will save the class label predictions to list `class_label_predictions`."
   ]
  },
  {
   "cell_type": "code",
   "execution_count": 71,
   "metadata": {},
   "outputs": [],
   "source": [
    "# Make predictions on the test set\n",
    "probability_predictions = nn_model.predict(X_test)\n",
    "class_label_predictions=[]\n",
    "\n",
    "for i in range(0,len(y_test)):\n",
    "    if probability_predictions[i] >= 0.6:\n",
    "        class_label_predictions.append(1)\n",
    "    else:\n",
    "        class_label_predictions.append(0)\n"
   ]
  },
  {
   "cell_type": "markdown",
   "metadata": {},
   "source": [
    "<b>Task</b>: In the code cell below, create a confusion matrix out of `y_test` and the list `class_label_predictions`."
   ]
  },
  {
   "cell_type": "code",
   "execution_count": 72,
   "metadata": {},
   "outputs": [
    {
     "data": {
      "text/plain": [
       "array([[14195,  1777],\n",
       "       [ 2317,  2728]])"
      ]
     },
     "execution_count": 72,
     "metadata": {},
     "output_type": "execute_result"
    }
   ],
   "source": [
    "from sklearn.metrics import confusion_matrix\n",
    "\n",
    "conf = confusion_matrix(y_test, class_label_predictions)\n",
    "conf\n",
    "# YOUR CODE HERE"
   ]
  },
  {
   "cell_type": "markdown",
   "metadata": {},
   "source": [
    "## Part 8. Analysis\n",
    "\n",
    "Experiment with the neural network implementation above and compare your results every time you train the network. Pay attention to the time it takes to train the network, and the resulting loss and accuracy on both the training and test data. \n",
    "\n",
    "Below are some ideas for things you can try:\n",
    "\n",
    "* Adjust the learning rate.\n",
    "* Change the number of epochs by experimenting with different values for the variable `num_epochs`.\n",
    "* Add more hidden layers and/or experiment with different values for the `unit` parameter in the hidden layers to change the number of nodes in the hidden layers.\n",
    "\n",
    "\n",
    "Record your findings in the cell below."
   ]
  },
  {
   "cell_type": "markdown",
   "metadata": {},
   "source": [
    "Learning Rate adjustments, all w 100 epochs:\n",
    "Default of 0.1:\n",
    "\n",
    "    Elapsed time: 13.23s\n",
    "    Loss: 1.0706969499588013, Accuracy: 0.7855545282363892\n",
    "    \n",
    "Changing to 1:\n",
    "\n",
    "    Elapsed time: 13.21s\n",
    "    Loss: 0.6155018210411072 Accuracy: 0.792120635509491\n",
    "    \n",
    "Changing to 10: \n",
    "\n",
    "    Elapsed time: 13.11s\n",
    "    Loss: nan Accuracy: 0.7551981806755066 \n",
    "    \n",
    "Changing to 100:\n",
    "\n",
    "    Elapsed time: 13.21s\n",
    "    Loss: nan Accuracy: 0.7565304040908813\n",
    "\n",
    "It appears that the highest accuracy is achieved at a learning rate of 1, with the lowest loss. My intuition says that for the number of epochs (100), the learning rates of 10 and 100 were too high to compute a loss value.\n",
    "\n",
    "\n",
    "num_epochs:\n",
    "using the default learning rate of 0.1:\n",
    "\n",
    "50 epochs:\n",
    "\n",
    "    Elapsed time: 6.96s\n",
    "    Loss: 0.6021785140037537 Accuracy: 0.8140552639961243\n",
    "\n",
    "100 epochs:\n",
    "\n",
    "    Elapsed time: 13.11s\n",
    "    Loss: 1.3237454891204834 Accuracy: 0.7945948243141174\n",
    "\n",
    "200 epochs:\n",
    "\n",
    "    Elapsed time: 25.79s\n",
    "    Loss: 1.8429017066955566 Accuracy: 0.7917400002479553\n",
    "\n",
    "500 epochs:\n",
    "\n",
    "    Elapsed time: 64.22s\n",
    "    Loss: 2.5222668647766113 Accuracy: 0.8061093688011169\n",
    "\n",
    "It seems that increasing the number of epochs doesn't significantly improve our accuracy (given that 50 epochs has a higher accuracy than 500). It is also more computationally expensive to train the NN over 500 epochs, for no added benefit, and given the increasing loss from higher number of epochs, it is possible that the model is beginning to overfit the data.\n",
    "\n",
    "\n",
    "Adding 2 dense layers (w default learning rate of 0.1 and default n_epochs = 100)\n",
    "One dense layer will have 128 nodes, and the other will have 8\n",
    "\n",
    "Results:\n",
    "\n",
    "    Loss: 1.3779886960983276 Accuracy: 0.8062520623207092\n",
    "    &\n",
    "    Elapsed time: 15.41s\n",
    "\n",
    "Removing the layer with 128 nodes:\n",
    "\n",
    "    Loss: 0.9746130704879761 Accuracy: 0.7998762726783752\n",
    "    &\n",
    "    Elapsed time: 14.13s\n",
    "\n",
    "Removing layer w 8 nodes:\n",
    "\n",
    "    Loss: 1.163484811782837 Accuracy: 0.8048722743988037\n",
    "    &\n",
    "    Elapsed time: 14.78s\n",
    "\n",
    "    \n",
    "Observations:\n",
    "\n",
    "Removing the 128-node layer: This reduced the training time slightly but also resulted in a small decrease in accuracy. This suggests that the 128-node layer might have some capacity to learn complex features, but it might also be contributing to overfitting (memorizing the training data too well and not generalizing well to unseen data).\n",
    "\n",
    "\n",
    "Removing the 8-node layer: This again led to a small decrease in accuracy while maintaining similar training time. This suggests that the 8-node layer might not have been contributing significantly to the model's performance.   \n",
    "\n",
    "Moving forward, I think implementing L2 regularization may be a good idea to prevent overfitting, or even add more hidden layers between the 3 defined in the (default) model!"
   ]
  },
  {
   "cell_type": "code",
   "execution_count": null,
   "metadata": {},
   "outputs": [],
   "source": []
  }
 ],
 "metadata": {
  "kernelspec": {
   "display_name": "Python 3 (ipykernel)",
   "language": "python",
   "name": "python3"
  },
  "language_info": {
   "codemirror_mode": {
    "name": "ipython",
    "version": 3
   },
   "file_extension": ".py",
   "mimetype": "text/x-python",
   "name": "python",
   "nbconvert_exporter": "python",
   "pygments_lexer": "ipython3",
   "version": "3.9.19"
  },
  "toc": {
   "base_numbering": 1,
   "nav_menu": {},
   "number_sections": false,
   "sideBar": true,
   "skip_h1_title": false,
   "title_cell": "Table of Contents",
   "title_sidebar": "Contents",
   "toc_cell": false,
   "toc_position": {},
   "toc_section_display": true,
   "toc_window_display": false
  },
  "varInspector": {
   "cols": {
    "lenName": 16,
    "lenType": 16,
    "lenVar": 40
   },
   "kernels_config": {
    "python": {
     "delete_cmd_postfix": "",
     "delete_cmd_prefix": "del ",
     "library": "var_list.py",
     "varRefreshCmd": "print(var_dic_list())"
    },
    "r": {
     "delete_cmd_postfix": ") ",
     "delete_cmd_prefix": "rm(",
     "library": "var_list.r",
     "varRefreshCmd": "cat(var_dic_list()) "
    }
   },
   "types_to_exclude": [
    "module",
    "function",
    "builtin_function_or_method",
    "instance",
    "_Feature"
   ],
   "window_display": false
  }
 },
 "nbformat": 4,
 "nbformat_minor": 4
}
